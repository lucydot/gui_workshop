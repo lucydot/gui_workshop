{
 "cells": [
  {
   "cell_type": "code",
   "execution_count": 15,
   "metadata": {},
   "outputs": [
    {
     "name": "stdout",
     "output_type": "stream",
     "text": [
      "Create your own DotSpace!\n"
     ]
    }
   ],
   "source": [
    "%matplotlib widget\n",
    "\n",
    "print(\"Create your own DotSpace!\")"
   ]
  },
  {
   "cell_type": "code",
   "execution_count": 25,
   "metadata": {},
   "outputs": [
    {
     "name": "stdout",
     "output_type": "stream",
     "text": [
      "Width: width of the image\n",
      "Height: height of the image\n",
      "Pattern:\n",
      " [example 1] 6 will display one black square followed by 5 white squares \n",
      " [example 2] 4 will display one black square followed by three white squares \n",
      " [example 3] 3,4 will display one black square followed by two white squares followed by one black square followed by three black squares \n",
      "Layered: Layer two patterns at right angles on top of one another\n"
     ]
    }
   ],
   "source": [
    "print(\"Width: width of the image\")\n",
    "print(\"Height: height of the image\")\n",
    "print(\"Pattern:\"+\"\\n\"+\" [example 1] 6 will display one black square followed by 5 white squares \"+\"\\n\"+\" [example 2] 4 will display one black square followed by three white squares \"+\"\\n\"+\" [example 3] 3,4 will display one black square followed by two white squares followed by one black square followed by three black squares \")\n",
    "print(\"Layered: Layer two patterns at right angles on top of one another\")"
   ]
  },
  {
   "cell_type": "code",
   "execution_count": 26,
   "metadata": {},
   "outputs": [
    {
     "data": {
      "application/vnd.jupyter.widget-view+json": {
       "model_id": "b0f10f53a0ac4aca836630a3ee1e1a02",
       "version_major": 2,
       "version_minor": 0
      },
      "text/plain": [
       "VBox(children=(HBox(children=(IntSlider(value=10, continuous_update=False, description='Width', orientation='v…"
      ]
     },
     "metadata": {},
     "output_type": "display_data"
    }
   ],
   "source": [
    "\n",
    "import ipywidgets as widgets\n",
    "\n",
    "import matplotlib.pyplot as plt\n",
    "import numpy as np\n",
    "\n",
    "\n",
    "def on_canvas_click(event):\n",
    "    if event.inaxes:\n",
    "        event.inaxes.plot([event.xdata], [event.ydata], marker=\"o\", color=\"r\")\n",
    "        event.canvas.draw()\n",
    "\n",
    "\n",
    "data = np.random.random((10, 10))\n",
    "\n",
    "text = \"Click!\"\n",
    "\n",
    "# Create the widgets and display the top container.\n",
    "width = widgets.IntSlider(\n",
    "    value=10,\n",
    "    min=0,\n",
    "    max=100,\n",
    "    step=1,\n",
    "    description='Width',\n",
    "    disabled=False,\n",
    "    continuous_update=False,\n",
    "    orientation='vertical',\n",
    "    readout=True,\n",
    "    readout_format='d')\n",
    "height = widgets.IntSlider(\n",
    "    value=10,\n",
    "    min=0,\n",
    "    max=100,\n",
    "    step=1,\n",
    "    description='Height',\n",
    "    disabled=False,\n",
    "    continuous_update=False,\n",
    "    orientation='vertical',\n",
    "    readout=True,\n",
    "    readout_format='d')\n",
    "pattern = widgets.BoundedIntText(\n",
    "    value=4,\n",
    "    min=0,\n",
    "    max=9999999999,\n",
    "    step=1,\n",
    "    description='Pattern',\n",
    "    disabled=False\n",
    ")\n",
    "layered = widgets.RadioButtons(\n",
    "    options=['single layer', 'double layer'],\n",
    "    value='single layer',\n",
    "    description='Layers:',\n",
    "    disabled=False\n",
    ")\n",
    "\n",
    "\n",
    "out1 = widgets.Output()\n",
    "button = widgets.Button(description=\"Generate DotSpace\")\n",
    "\n",
    "def on_button_clicked(b):\n",
    "    with out1:\n",
    "        fig, axes = plt.subplots()\n",
    "        axes.imshow(data)\n",
    "        fig.canvas.mpl_connect(\"button_press_event\", on_canvas_click)\n",
    "        fig.canvas.layout.width = '700px'\n",
    "        fig.canvas.draw()\n",
    "\n",
    "button.on_click(on_button_clicked)\n",
    "hbox = widgets.HBox(children=[width,height,pattern,layered])\n",
    "vbox = widgets.VBox(children=[hbox, button, out1])\n",
    "display(vbox)\n",
    "\n"
   ]
  },
  {
   "cell_type": "code",
   "execution_count": null,
   "metadata": {},
   "outputs": [],
   "source": []
  }
 ],
 "metadata": {
  "kernelspec": {
   "display_name": "Python 3",
   "language": "python",
   "name": "python3"
  },
  "language_info": {
   "codemirror_mode": {
    "name": "ipython",
    "version": 3
   },
   "file_extension": ".py",
   "mimetype": "text/x-python",
   "name": "python",
   "nbconvert_exporter": "python",
   "pygments_lexer": "ipython3",
   "version": "3.7.3"
  }
 },
 "nbformat": 4,
 "nbformat_minor": 2
}

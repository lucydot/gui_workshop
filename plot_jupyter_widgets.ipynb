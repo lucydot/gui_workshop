{
 "cells": [
  {
   "cell_type": "code",
   "execution_count": 82,
   "metadata": {},
   "outputs": [
    {
     "name": "stdout",
     "output_type": "stream",
     "text": [
      "Create your own DotSpace!\n"
     ]
    }
   ],
   "source": [
    "%matplotlib widget\n",
    "\n",
    "# To prevent automatic figure display when execution of the cell ends\n",
    "%config InlineBackend.close_figures=False \n",
    "\n",
    "# TITLE\n",
    "print(\"Create your own DotSpace!\")"
   ]
  },
  {
   "cell_type": "code",
   "execution_count": 83,
   "metadata": {},
   "outputs": [
    {
     "name": "stdout",
     "output_type": "stream",
     "text": [
      "Size: Grid size of square\n",
      "Pattern:\n",
      " [example 1] 6 will display one black square followed by five white squares \n",
      " [example 2] 4 will display one black square followed by three white squares \n",
      " [example 3] 3,4 will display one black square followed by two white squares followed by one black square followed by three white squares \n",
      "Layered: Single layer or two layers at right angles on top of one another\n"
     ]
    }
   ],
   "source": [
    "# INFO\n",
    "print(\"Size: Grid size of square\")\n",
    "print(\"Pattern:\"+\"\\n\"+\" [example 1] 6 will display one black square followed by five white squares \"+\"\\n\"+\" [example 2] 4 will display one black square followed by three white squares \"+\"\\n\"+\" [example 3] 3,4 will display one black square followed by two white squares followed by one black square followed by three white squares \")\n",
    "print(\"Layered: Single layer or two layers at right angles on top of one another\")"
   ]
  },
  {
   "cell_type": "code",
   "execution_count": 86,
   "metadata": {},
   "outputs": [],
   "source": [
    "def generate_standin():\n",
    "    ax.clear()\n",
    "    data = np.random.random((10, 10))\n",
    "    axes.imshow(data)\n",
    "    fig.canvas.layout.width = '400px'\n",
    "    with out1:\n",
    "        clear_output(wait=True)\n",
    "        display(axes.figure)"
   ]
  },
  {
   "cell_type": "code",
   "execution_count": 91,
   "metadata": {},
   "outputs": [
    {
     "data": {
      "application/vnd.jupyter.widget-view+json": {
       "model_id": "4de48b77cd9448059541c0d25dbbf5ec",
       "version_major": 2,
       "version_minor": 0
      },
      "text/plain": [
       "VBox(children=(HBox(children=(IntSlider(value=10, continuous_update=False, description='Size', min=1, orientat…"
      ]
     },
     "metadata": {},
     "output_type": "display_data"
    }
   ],
   "source": [
    "# WIDGETS\n",
    "\n",
    "import ipywidgets as widgets\n",
    "import matplotlib.pyplot as plt\n",
    "import numpy as np\n",
    "from IPython.display import display,clear_output\n",
    "\n",
    "\n",
    "\n",
    "# Create the widgets and display the top container.\n",
    "size = widgets.IntSlider(\n",
    "    value=10,\n",
    "    min=1,\n",
    "    max=100,\n",
    "    step=1,\n",
    "    description='Size',\n",
    "    disabled=False,\n",
    "    continuous_update=False,\n",
    "    orientation='vertical',\n",
    "    readout=True,\n",
    "    readout_format='d')\n",
    "pattern = widgets.BoundedIntText(\n",
    "    value=4,\n",
    "    min=0,\n",
    "    max=9999999999,\n",
    "    step=1,\n",
    "    description='Pattern',\n",
    "    disabled=False\n",
    ")\n",
    "layered = widgets.RadioButtons(\n",
    "    options=['single layer', 'double layer'],\n",
    "    value='single layer',\n",
    "    description='Layers:',\n",
    "    disabled=False\n",
    ")\n",
    "\n",
    "\n",
    "out1 = widgets.Output()\n",
    "button = widgets.Button(description=\"Generate DotSpace\")\n",
    "hbox = widgets.HBox(children=[size,pattern,layered])\n",
    "vbox = widgets.VBox(children=[hbox, button, out1])\n",
    "display(vbox)\n",
    "\n",
    "plt.ioff()\n",
    "ax=plt.gca()\n",
    "\n",
    "def on_button_clicked(b):\n",
    "    ax.clear()\n",
    "    data = np.random.random((10, 10))\n",
    "    ax.imshow(data)\n",
    "    with out1:\n",
    "        clear_output(wait=True)\n",
    "        display(ax.figure)\n",
    "\n",
    "button.on_click(on_button_clicked)\n",
    "on_button_clicked(None)"
   ]
  },
  {
   "cell_type": "code",
   "execution_count": 63,
   "metadata": {},
   "outputs": [],
   "source": [
    "# BACKEND\n",
    "\n",
    "\n",
    "\n",
    "def create(args, orientation):\n",
    "    \"\"\" Creates pattern \"\"\"\n",
    "    \n",
    "    pattern = np.zeros(args[\"width\"]*args[\"height\"], dtype=int)\n",
    "    \n",
    "    if orientation == 90:\n",
    "        steps = 1\n",
    "        basis = args[\"basis_digital\"]\n",
    "    elif orientation == 0:\n",
    "        steps = 0\n",
    "        basis = args[\"basis_digital\"]\n",
    "\n",
    "    basis_length = len(basis)\n",
    "    \n",
    "    defects = np.rot90(defects,steps)\n",
    "    \n",
    "    defects = np.ravel(defects)\n",
    "\n",
    "    # Working in 1D\n",
    "    counter = 0 \n",
    "    for position in np.arange(len(pattern)):\n",
    "        if basis[counter] == 1:\n",
    "            pattern[position] = 1\n",
    "        counter = ((counter + 1) % basis_length) # clock maths!\n",
    "    \n",
    "    # 2D to the eye\n",
    "    pattern.shape = (args[\"height\"], args[\"width\"])\n",
    "    pattern = np.rot90(pattern,4-steps)    \n",
    "    return pattern\n",
    "\n",
    "def overlay(pattern):\n",
    "    \"\"\"generator expression used\"\"\"\n",
    "    \n",
    "    length = pattern[0].shape[0] # We know they are square\n",
    "    pattern_overlaid = np.zeros((length, length))\n",
    "    \n",
    "    for i in np.arange(length):\n",
    "        for j in np.arange(length):\n",
    "            if any(x[i,j] == 1 for x in pattern):\n",
    "               pattern_overlaid[i,j] = 1\n",
    "               \n",
    "    return pattern_overlaid\n",
    "\n",
    "def visualise(args, defects, patterns):\n",
    "    \"\"\"Matplotlib magic: Generates PNG files for defects, bottom layer, \n",
    "    top layer and overlaid. 1's (dots) are black, 0's (spaces) are white.\"\"\"\n",
    "    image = plt.imshow(pattern, interpolation='nearest')\n",
    "    image.set_cmap('Greys')\n",
    "    plt.axis('off')\n",
    "    plt.savefig(args[\"identity\"]+\"-\"+\"defects\"+\".png\", \n",
    "                    bbox_inches='tight',dpi=dpi)\n",
    "    plt.close()\n",
    "    \n",
    "    if np.all(patterns[-1]):\n",
    "        print (\"WARNING: YOU HAVE A FULLY DOTTED DOTSPACE\") \n",
    "    image = plt.imshow(patterns[-1], interpolation='nearest')\n",
    "    image.set_cmap('Greys')\n",
    "    plt.axis('off')\n",
    "    plt.savefig(args[\"identity\"]+\"-\"+\"overlaid\"+\".png\", \n",
    "                    bbox_inches='tight',dpi=dpi)\n",
    "    plt.close()\n",
    "\n",
    "\n",
    "    for index,x in enumerate(args[\"orientations\"]):\n",
    "        image = plt.imshow(patterns[index], interpolation='nearest')\n",
    "        image.set_cmap('Greys')\n",
    "        plt.axis('off')\n",
    "        plt.savefig(args[\"identity\"]+\"-layer_\"+str(x)+\".png\", \n",
    "                    bbox_inches='tight',dpi=dpi)\n",
    "        plt.close()\n",
    "\n",
    "def generate_dotspace(size,pattern,layered):\n",
    "\n",
    "    args = dict()        \n",
    "    args[\"dpi\"] = 300\n",
    "    args[\"basis\"] = pattern\n",
    "    args[\"digital\"] = []\n",
    "    digits_list = list(map(int,str(pattern)))\n",
    "    for x in digits_list:\n",
    "        args[\"digital\"] = args[\"digital\"] + [1] + [0]*(x-1)\n",
    "    args[\"width\"] = size\n",
    "    args[\"height\"] = size\n",
    "    \n",
    "    patterns = []\n",
    "    patterns.append(create(args,0))\n",
    "    \n",
    "    if layered == \"double layer\":\n",
    "        patterns.append(create(args,90))\n",
    "        patterns.append(overlay(patterns))\n",
    "\n",
    "    pattern = patterns[-1]\n",
    "    visualise(args, pattern)\n",
    "\n",
    "#if len(args[\"basis\"]) > args[\"width\"]*args[\"height\"]:\n",
    "    #    raise ValueError(\"Basis specified beyond pattern size\")\n"
   ]
  },
  {
   "cell_type": "code",
   "execution_count": 62,
   "metadata": {},
   "outputs": [
    {
     "data": {
      "text/plain": [
       "4"
      ]
     },
     "execution_count": 62,
     "metadata": {},
     "output_type": "execute_result"
    }
   ],
   "source": [
    "pattern.value"
   ]
  },
  {
   "cell_type": "code",
   "execution_count": 54,
   "metadata": {},
   "outputs": [
    {
     "data": {
      "text/plain": [
       "[5, 2]"
      ]
     },
     "execution_count": 54,
     "metadata": {},
     "output_type": "execute_result"
    }
   ],
   "source": [
    "list(map(int,str(pattern.value)))"
   ]
  },
  {
   "cell_type": "code",
   "execution_count": null,
   "metadata": {},
   "outputs": [],
   "source": []
  }
 ],
 "metadata": {
  "kernelspec": {
   "display_name": "Python 3",
   "language": "python",
   "name": "python3"
  },
  "language_info": {
   "codemirror_mode": {
    "name": "ipython",
    "version": 3
   },
   "file_extension": ".py",
   "mimetype": "text/x-python",
   "name": "python",
   "nbconvert_exporter": "python",
   "pygments_lexer": "ipython3",
   "version": "3.7.3"
  }
 },
 "nbformat": 4,
 "nbformat_minor": 2
}

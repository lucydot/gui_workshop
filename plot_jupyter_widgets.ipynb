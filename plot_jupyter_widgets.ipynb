{
 "cells": [
  {
   "cell_type": "code",
   "execution_count": 120,
   "metadata": {},
   "outputs": [
    {
     "name": "stdout",
     "output_type": "stream",
     "text": [
      "Create your own DotSpace!\n"
     ]
    }
   ],
   "source": [
    "%matplotlib widget\n",
    "\n",
    "# To prevent automatic figure display when execution of the cell ends\n",
    "%config InlineBackend.close_figures=False \n",
    "\n",
    "# TITLE\n",
    "print(\"Create your own DotSpace!\")"
   ]
  },
  {
   "cell_type": "code",
   "execution_count": 121,
   "metadata": {},
   "outputs": [
    {
     "name": "stdout",
     "output_type": "stream",
     "text": [
      "Size: Grid size of square\n",
      "Pattern:\n",
      " [example 1] 6 will display one black square followed by five white squares \n",
      " [example 2] 4 will display one black square followed by three white squares \n",
      " [example 3] 3,4 will display one black square, two white squares, one black square, three white squares \n",
      "Layered: Single layer or two layers at right angles on top of one another\n"
     ]
    }
   ],
   "source": [
    "# INFO\n",
    "print(\"Size: Grid size of square\")\n",
    "print(\"Pattern:\"+\"\\n\"+\" [example 1] 6 will display one black square followed by five white squares \"+\"\\n\"+\" [example 2] 4 will display one black square followed by three white squares \"+\"\\n\"+\" [example 3] 3,4 will display one black square, two white squares, one black square, three white squares \")\n",
    "print(\"Layered: Single layer or two layers at right angles on top of one another\")"
   ]
  },
  {
   "cell_type": "code",
   "execution_count": 123,
   "metadata": {},
   "outputs": [],
   "source": []
  },
  {
   "cell_type": "code",
   "execution_count": 129,
   "metadata": {},
   "outputs": [
    {
     "data": {
      "application/vnd.jupyter.widget-view+json": {
       "model_id": "360f5e7b5d2f43b5818e8e0bf526ffe8",
       "version_major": 2,
       "version_minor": 0
      },
      "text/plain": [
       "VBox(children=(HBox(children=(IntSlider(value=10, continuous_update=False, description='Size', min=1, orientat…"
      ]
     },
     "metadata": {},
     "output_type": "display_data"
    }
   ],
   "source": [
    "# WIDGETS\n",
    "\n",
    "import ipywidgets as widgets\n",
    "import matplotlib.pyplot as plt\n",
    "import numpy as np\n",
    "from IPython.display import display,clear_output\n",
    "\n",
    "\n",
    "\n",
    "# Create the widgets and display the top container.\n",
    "size = widgets.IntSlider(\n",
    "    value=10,\n",
    "    min=1,\n",
    "    max=100,\n",
    "    step=1,\n",
    "    description='Size',\n",
    "    disabled=False,\n",
    "    continuous_update=False,\n",
    "    orientation='vertical',\n",
    "    readout=True,\n",
    "    readout_format='d')\n",
    "pattern = widgets.BoundedIntText(\n",
    "    value=4,\n",
    "    min=0,\n",
    "    max=9999999999,\n",
    "    step=1,\n",
    "    description='Pattern',\n",
    "    disabled=False\n",
    ")\n",
    "layered = widgets.RadioButtons(\n",
    "    options=['single layer', 'double layer'],\n",
    "    value='single layer',\n",
    "    description='Layers:',\n",
    "    disabled=False\n",
    ")\n",
    "\n",
    "\n",
    "out1 = widgets.Output()\n",
    "button = widgets.Button(description=\"Generate DotSpace\")\n",
    "hbox = widgets.HBox(children=[size,pattern,layered])\n",
    "vbox = widgets.VBox(children=[hbox, button, out1])\n",
    "display(vbox)\n",
    "\n",
    "plt.ioff()\n",
    "ax=plt.gca()\n",
    "\n",
    "def on_button_clicked(b):\n",
    "    generate_dotspace(size.value,pattern.value,layered.value)\n",
    "    with out1:\n",
    "        clear_output(wait=True)\n",
    "        display(ax.figure)\n",
    "        \n",
    "# DOTSPACE BACKEND\n",
    "\n",
    "def create(args, orientation):\n",
    "\n",
    "    pattern = np.zeros(args[\"width\"]*args[\"height\"], dtype=int)\n",
    "    \n",
    "    if orientation == 90:\n",
    "        steps = 1\n",
    "        basis = args[\"digital\"]\n",
    "    elif orientation == 0:\n",
    "        steps = 0\n",
    "        basis = args[\"digital\"]\n",
    "\n",
    "    basis_length = len(basis)\n",
    "    \n",
    "\n",
    "    # Working in 1D\n",
    "    counter = 0 \n",
    "    for position in np.arange(len(pattern)):\n",
    "        if basis[counter] == 1:\n",
    "            pattern[position] = 1\n",
    "        counter = ((counter + 1) % basis_length) # clock maths!\n",
    "    \n",
    "    # 2D to the eye\n",
    "    pattern.shape = (args[\"height\"], args[\"width\"])\n",
    "    pattern = np.rot90(pattern,4-steps)    \n",
    "    return pattern\n",
    "\n",
    "def overlay(pattern):\n",
    "\n",
    "    length = pattern[0].shape[0] # We know they are square\n",
    "    pattern_overlaid = np.zeros((length, length))\n",
    "    \n",
    "    for i in np.arange(length):\n",
    "        for j in np.arange(length):\n",
    "            if any(x[i,j] == 1 for x in pattern):\n",
    "               pattern_overlaid[i,j] = 1\n",
    "               \n",
    "    return pattern_overlaid\n",
    "\n",
    "def visualise(args, pattern):\n",
    "    \n",
    "    plt.set_cmap('Greys')\n",
    "    ax.imshow(pattern, interpolation='nearest') \n",
    "    plt.axis('off')\n",
    "\n",
    "\n",
    "def generate_dotspace(size,pattern,layered):\n",
    "    \n",
    "    ax.clear()\n",
    "\n",
    "    args = dict()        \n",
    "    args[\"dpi\"] = 96\n",
    "    args[\"basis\"] = pattern\n",
    "    args[\"digital\"] = []\n",
    "    digits_list = list(map(int,str(pattern)))\n",
    "    for x in digits_list:\n",
    "        args[\"digital\"] = args[\"digital\"] + [1] + [0]*(x-1)\n",
    "    args[\"width\"] = size\n",
    "    args[\"height\"] = size\n",
    "    \n",
    "    patterns = []\n",
    "    patterns.append(create(args,0))\n",
    "    \n",
    "    if layered == \"double layer\":\n",
    "        patterns.append(create(args,90))\n",
    "        patterns.append(overlay(patterns))\n",
    "\n",
    "    pattern = patterns[-1]\n",
    "    visualise(args, pattern)\n",
    "\n",
    "\n",
    "button.on_click(on_button_clicked)\n",
    "on_button_clicked(None)"
   ]
  },
  {
   "cell_type": "code",
   "execution_count": null,
   "metadata": {},
   "outputs": [],
   "source": []
  }
 ],
 "metadata": {
  "kernelspec": {
   "display_name": "Python 3",
   "language": "python",
   "name": "python3"
  },
  "language_info": {
   "codemirror_mode": {
    "name": "ipython",
    "version": 3
   },
   "file_extension": ".py",
   "mimetype": "text/x-python",
   "name": "python",
   "nbconvert_exporter": "python",
   "pygments_lexer": "ipython3",
   "version": "3.7.3"
  }
 },
 "nbformat": 4,
 "nbformat_minor": 2
}
